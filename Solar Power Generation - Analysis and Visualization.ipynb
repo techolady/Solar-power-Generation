{
 "cells": [
  {
   "cell_type": "code",
   "execution_count": 1,
   "metadata": {},
   "outputs": [],
   "source": [
    "import numpy as np # linear algebra\n",
    "import pandas as pd # data processing, CSV file I/O (e.g. pd.read_csv)\n",
    "\n",
    "import matplotlib.pyplot as plt\n",
    "import plotly.express as px\n",
    "import plotly.graph_objects as go\n",
    "import seaborn as sns\n",
    "\n",
    "%matplotlib inline"
   ]
  },
  {
   "cell_type": "code",
   "execution_count": 2,
   "metadata": {},
   "outputs": [],
   "source": [
    "plant_1_weather_sensor_data = pd.read_csv(\"Plant_1_Weather_Sensor_Data.csv\")\n",
    "plant_1_generation_data = pd.read_csv(\"Plant_1_Generation_Data.csv\")\n",
    "plant_2_weather_sensor_data = pd.read_csv(\"Plant_2_Weather_Sensor_Data.csv\")\n",
    "plant_2_generation_data = pd.read_csv(\"Plant_2_Generation_Data.csv\")"
   ]
  },
  {
   "cell_type": "code",
   "execution_count": 3,
   "metadata": {},
   "outputs": [
    {
     "data": {
      "text/html": [
       "<div>\n",
       "<style scoped>\n",
       "    .dataframe tbody tr th:only-of-type {\n",
       "        vertical-align: middle;\n",
       "    }\n",
       "\n",
       "    .dataframe tbody tr th {\n",
       "        vertical-align: top;\n",
       "    }\n",
       "\n",
       "    .dataframe thead th {\n",
       "        text-align: right;\n",
       "    }\n",
       "</style>\n",
       "<table border=\"1\" class=\"dataframe\">\n",
       "  <thead>\n",
       "    <tr style=\"text-align: right;\">\n",
       "      <th></th>\n",
       "      <th>PLANT_ID</th>\n",
       "      <th>AMBIENT_TEMPERATURE</th>\n",
       "      <th>MODULE_TEMPERATURE</th>\n",
       "      <th>IRRADIATION</th>\n",
       "    </tr>\n",
       "  </thead>\n",
       "  <tbody>\n",
       "    <tr>\n",
       "      <th>count</th>\n",
       "      <td>3182.0</td>\n",
       "      <td>3182.000000</td>\n",
       "      <td>3182.000000</td>\n",
       "      <td>3182.000000</td>\n",
       "    </tr>\n",
       "    <tr>\n",
       "      <th>mean</th>\n",
       "      <td>4135001.0</td>\n",
       "      <td>25.531606</td>\n",
       "      <td>31.091015</td>\n",
       "      <td>0.228313</td>\n",
       "    </tr>\n",
       "    <tr>\n",
       "      <th>std</th>\n",
       "      <td>0.0</td>\n",
       "      <td>3.354856</td>\n",
       "      <td>12.261222</td>\n",
       "      <td>0.300836</td>\n",
       "    </tr>\n",
       "    <tr>\n",
       "      <th>min</th>\n",
       "      <td>4135001.0</td>\n",
       "      <td>20.398505</td>\n",
       "      <td>18.140415</td>\n",
       "      <td>0.000000</td>\n",
       "    </tr>\n",
       "    <tr>\n",
       "      <th>25%</th>\n",
       "      <td>4135001.0</td>\n",
       "      <td>22.705182</td>\n",
       "      <td>21.090553</td>\n",
       "      <td>0.000000</td>\n",
       "    </tr>\n",
       "    <tr>\n",
       "      <th>50%</th>\n",
       "      <td>4135001.0</td>\n",
       "      <td>24.613814</td>\n",
       "      <td>24.618060</td>\n",
       "      <td>0.024653</td>\n",
       "    </tr>\n",
       "    <tr>\n",
       "      <th>75%</th>\n",
       "      <td>4135001.0</td>\n",
       "      <td>27.920532</td>\n",
       "      <td>41.307840</td>\n",
       "      <td>0.449588</td>\n",
       "    </tr>\n",
       "    <tr>\n",
       "      <th>max</th>\n",
       "      <td>4135001.0</td>\n",
       "      <td>35.252486</td>\n",
       "      <td>65.545714</td>\n",
       "      <td>1.221652</td>\n",
       "    </tr>\n",
       "  </tbody>\n",
       "</table>\n",
       "</div>"
      ],
      "text/plain": [
       "        PLANT_ID  AMBIENT_TEMPERATURE  MODULE_TEMPERATURE  IRRADIATION\n",
       "count     3182.0          3182.000000         3182.000000  3182.000000\n",
       "mean   4135001.0            25.531606           31.091015     0.228313\n",
       "std          0.0             3.354856           12.261222     0.300836\n",
       "min    4135001.0            20.398505           18.140415     0.000000\n",
       "25%    4135001.0            22.705182           21.090553     0.000000\n",
       "50%    4135001.0            24.613814           24.618060     0.024653\n",
       "75%    4135001.0            27.920532           41.307840     0.449588\n",
       "max    4135001.0            35.252486           65.545714     1.221652"
      ]
     },
     "execution_count": 3,
     "metadata": {},
     "output_type": "execute_result"
    }
   ],
   "source": [
    "plant_1_weather_sensor_data.describe()"
   ]
  },
  {
   "cell_type": "code",
   "execution_count": 4,
   "metadata": {},
   "outputs": [
    {
     "data": {
      "text/html": [
       "<div>\n",
       "<style scoped>\n",
       "    .dataframe tbody tr th:only-of-type {\n",
       "        vertical-align: middle;\n",
       "    }\n",
       "\n",
       "    .dataframe tbody tr th {\n",
       "        vertical-align: top;\n",
       "    }\n",
       "\n",
       "    .dataframe thead th {\n",
       "        text-align: right;\n",
       "    }\n",
       "</style>\n",
       "<table border=\"1\" class=\"dataframe\">\n",
       "  <thead>\n",
       "    <tr style=\"text-align: right;\">\n",
       "      <th></th>\n",
       "      <th>PLANT_ID</th>\n",
       "      <th>DC_POWER</th>\n",
       "      <th>AC_POWER</th>\n",
       "      <th>DAILY_YIELD</th>\n",
       "      <th>TOTAL_YIELD</th>\n",
       "    </tr>\n",
       "  </thead>\n",
       "  <tbody>\n",
       "    <tr>\n",
       "      <th>count</th>\n",
       "      <td>68778.0</td>\n",
       "      <td>68778.000000</td>\n",
       "      <td>68778.000000</td>\n",
       "      <td>68778.000000</td>\n",
       "      <td>6.877800e+04</td>\n",
       "    </tr>\n",
       "    <tr>\n",
       "      <th>mean</th>\n",
       "      <td>4135001.0</td>\n",
       "      <td>3147.426211</td>\n",
       "      <td>307.802752</td>\n",
       "      <td>3295.968737</td>\n",
       "      <td>6.978712e+06</td>\n",
       "    </tr>\n",
       "    <tr>\n",
       "      <th>std</th>\n",
       "      <td>0.0</td>\n",
       "      <td>4036.457169</td>\n",
       "      <td>394.396439</td>\n",
       "      <td>3145.178309</td>\n",
       "      <td>4.162720e+05</td>\n",
       "    </tr>\n",
       "    <tr>\n",
       "      <th>min</th>\n",
       "      <td>4135001.0</td>\n",
       "      <td>0.000000</td>\n",
       "      <td>0.000000</td>\n",
       "      <td>0.000000</td>\n",
       "      <td>6.183645e+06</td>\n",
       "    </tr>\n",
       "    <tr>\n",
       "      <th>25%</th>\n",
       "      <td>4135001.0</td>\n",
       "      <td>0.000000</td>\n",
       "      <td>0.000000</td>\n",
       "      <td>0.000000</td>\n",
       "      <td>6.512003e+06</td>\n",
       "    </tr>\n",
       "    <tr>\n",
       "      <th>50%</th>\n",
       "      <td>4135001.0</td>\n",
       "      <td>429.000000</td>\n",
       "      <td>41.493750</td>\n",
       "      <td>2658.714286</td>\n",
       "      <td>7.146685e+06</td>\n",
       "    </tr>\n",
       "    <tr>\n",
       "      <th>75%</th>\n",
       "      <td>4135001.0</td>\n",
       "      <td>6366.964286</td>\n",
       "      <td>623.618750</td>\n",
       "      <td>6274.000000</td>\n",
       "      <td>7.268706e+06</td>\n",
       "    </tr>\n",
       "    <tr>\n",
       "      <th>max</th>\n",
       "      <td>4135001.0</td>\n",
       "      <td>14471.125000</td>\n",
       "      <td>1410.950000</td>\n",
       "      <td>9163.000000</td>\n",
       "      <td>7.846821e+06</td>\n",
       "    </tr>\n",
       "  </tbody>\n",
       "</table>\n",
       "</div>"
      ],
      "text/plain": [
       "        PLANT_ID      DC_POWER      AC_POWER   DAILY_YIELD   TOTAL_YIELD\n",
       "count    68778.0  68778.000000  68778.000000  68778.000000  6.877800e+04\n",
       "mean   4135001.0   3147.426211    307.802752   3295.968737  6.978712e+06\n",
       "std          0.0   4036.457169    394.396439   3145.178309  4.162720e+05\n",
       "min    4135001.0      0.000000      0.000000      0.000000  6.183645e+06\n",
       "25%    4135001.0      0.000000      0.000000      0.000000  6.512003e+06\n",
       "50%    4135001.0    429.000000     41.493750   2658.714286  7.146685e+06\n",
       "75%    4135001.0   6366.964286    623.618750   6274.000000  7.268706e+06\n",
       "max    4135001.0  14471.125000   1410.950000   9163.000000  7.846821e+06"
      ]
     },
     "execution_count": 4,
     "metadata": {},
     "output_type": "execute_result"
    }
   ],
   "source": [
    "plant_1_generation_data.describe()"
   ]
  },
  {
   "cell_type": "code",
   "execution_count": 5,
   "metadata": {},
   "outputs": [
    {
     "data": {
      "text/html": [
       "<div>\n",
       "<style scoped>\n",
       "    .dataframe tbody tr th:only-of-type {\n",
       "        vertical-align: middle;\n",
       "    }\n",
       "\n",
       "    .dataframe tbody tr th {\n",
       "        vertical-align: top;\n",
       "    }\n",
       "\n",
       "    .dataframe thead th {\n",
       "        text-align: right;\n",
       "    }\n",
       "</style>\n",
       "<table border=\"1\" class=\"dataframe\">\n",
       "  <thead>\n",
       "    <tr style=\"text-align: right;\">\n",
       "      <th></th>\n",
       "      <th>PLANT_ID</th>\n",
       "      <th>AMBIENT_TEMPERATURE</th>\n",
       "      <th>MODULE_TEMPERATURE</th>\n",
       "      <th>IRRADIATION</th>\n",
       "    </tr>\n",
       "  </thead>\n",
       "  <tbody>\n",
       "    <tr>\n",
       "      <th>count</th>\n",
       "      <td>3259.0</td>\n",
       "      <td>3259.000000</td>\n",
       "      <td>3259.000000</td>\n",
       "      <td>3259.000000</td>\n",
       "    </tr>\n",
       "    <tr>\n",
       "      <th>mean</th>\n",
       "      <td>4136001.0</td>\n",
       "      <td>28.069400</td>\n",
       "      <td>32.772408</td>\n",
       "      <td>0.232737</td>\n",
       "    </tr>\n",
       "    <tr>\n",
       "      <th>std</th>\n",
       "      <td>0.0</td>\n",
       "      <td>4.061556</td>\n",
       "      <td>11.344034</td>\n",
       "      <td>0.312693</td>\n",
       "    </tr>\n",
       "    <tr>\n",
       "      <th>min</th>\n",
       "      <td>4136001.0</td>\n",
       "      <td>20.942385</td>\n",
       "      <td>20.265123</td>\n",
       "      <td>0.000000</td>\n",
       "    </tr>\n",
       "    <tr>\n",
       "      <th>25%</th>\n",
       "      <td>4136001.0</td>\n",
       "      <td>24.602135</td>\n",
       "      <td>23.716881</td>\n",
       "      <td>0.000000</td>\n",
       "    </tr>\n",
       "    <tr>\n",
       "      <th>50%</th>\n",
       "      <td>4136001.0</td>\n",
       "      <td>26.981263</td>\n",
       "      <td>27.534606</td>\n",
       "      <td>0.019040</td>\n",
       "    </tr>\n",
       "    <tr>\n",
       "      <th>75%</th>\n",
       "      <td>4136001.0</td>\n",
       "      <td>31.056757</td>\n",
       "      <td>40.480653</td>\n",
       "      <td>0.438717</td>\n",
       "    </tr>\n",
       "    <tr>\n",
       "      <th>max</th>\n",
       "      <td>4136001.0</td>\n",
       "      <td>39.181638</td>\n",
       "      <td>66.635953</td>\n",
       "      <td>1.098766</td>\n",
       "    </tr>\n",
       "  </tbody>\n",
       "</table>\n",
       "</div>"
      ],
      "text/plain": [
       "        PLANT_ID  AMBIENT_TEMPERATURE  MODULE_TEMPERATURE  IRRADIATION\n",
       "count     3259.0          3259.000000         3259.000000  3259.000000\n",
       "mean   4136001.0            28.069400           32.772408     0.232737\n",
       "std          0.0             4.061556           11.344034     0.312693\n",
       "min    4136001.0            20.942385           20.265123     0.000000\n",
       "25%    4136001.0            24.602135           23.716881     0.000000\n",
       "50%    4136001.0            26.981263           27.534606     0.019040\n",
       "75%    4136001.0            31.056757           40.480653     0.438717\n",
       "max    4136001.0            39.181638           66.635953     1.098766"
      ]
     },
     "execution_count": 5,
     "metadata": {},
     "output_type": "execute_result"
    }
   ],
   "source": [
    "plant_2_weather_sensor_data.describe()"
   ]
  },
  {
   "cell_type": "code",
   "execution_count": 7,
   "metadata": {},
   "outputs": [
    {
     "data": {
      "text/html": [
       "<div>\n",
       "<style scoped>\n",
       "    .dataframe tbody tr th:only-of-type {\n",
       "        vertical-align: middle;\n",
       "    }\n",
       "\n",
       "    .dataframe tbody tr th {\n",
       "        vertical-align: top;\n",
       "    }\n",
       "\n",
       "    .dataframe thead th {\n",
       "        text-align: right;\n",
       "    }\n",
       "</style>\n",
       "<table border=\"1\" class=\"dataframe\">\n",
       "  <thead>\n",
       "    <tr style=\"text-align: right;\">\n",
       "      <th></th>\n",
       "      <th>PLANT_ID</th>\n",
       "      <th>DC_POWER</th>\n",
       "      <th>AC_POWER</th>\n",
       "      <th>DAILY_YIELD</th>\n",
       "      <th>TOTAL_YIELD</th>\n",
       "    </tr>\n",
       "  </thead>\n",
       "  <tbody>\n",
       "    <tr>\n",
       "      <th>count</th>\n",
       "      <td>67698.0</td>\n",
       "      <td>67698.000000</td>\n",
       "      <td>67698.000000</td>\n",
       "      <td>67698.000000</td>\n",
       "      <td>6.769800e+04</td>\n",
       "    </tr>\n",
       "    <tr>\n",
       "      <th>mean</th>\n",
       "      <td>4136001.0</td>\n",
       "      <td>246.701961</td>\n",
       "      <td>241.277825</td>\n",
       "      <td>3294.890295</td>\n",
       "      <td>6.589448e+08</td>\n",
       "    </tr>\n",
       "    <tr>\n",
       "      <th>std</th>\n",
       "      <td>0.0</td>\n",
       "      <td>370.569597</td>\n",
       "      <td>362.112118</td>\n",
       "      <td>2919.448386</td>\n",
       "      <td>7.296678e+08</td>\n",
       "    </tr>\n",
       "    <tr>\n",
       "      <th>min</th>\n",
       "      <td>4136001.0</td>\n",
       "      <td>0.000000</td>\n",
       "      <td>0.000000</td>\n",
       "      <td>0.000000</td>\n",
       "      <td>0.000000e+00</td>\n",
       "    </tr>\n",
       "    <tr>\n",
       "      <th>25%</th>\n",
       "      <td>4136001.0</td>\n",
       "      <td>0.000000</td>\n",
       "      <td>0.000000</td>\n",
       "      <td>272.750000</td>\n",
       "      <td>1.996494e+07</td>\n",
       "    </tr>\n",
       "    <tr>\n",
       "      <th>50%</th>\n",
       "      <td>4136001.0</td>\n",
       "      <td>0.000000</td>\n",
       "      <td>0.000000</td>\n",
       "      <td>2911.000000</td>\n",
       "      <td>2.826276e+08</td>\n",
       "    </tr>\n",
       "    <tr>\n",
       "      <th>75%</th>\n",
       "      <td>4136001.0</td>\n",
       "      <td>446.591667</td>\n",
       "      <td>438.215000</td>\n",
       "      <td>5534.000000</td>\n",
       "      <td>1.348495e+09</td>\n",
       "    </tr>\n",
       "    <tr>\n",
       "      <th>max</th>\n",
       "      <td>4136001.0</td>\n",
       "      <td>1420.933333</td>\n",
       "      <td>1385.420000</td>\n",
       "      <td>9873.000000</td>\n",
       "      <td>2.247916e+09</td>\n",
       "    </tr>\n",
       "  </tbody>\n",
       "</table>\n",
       "</div>"
      ],
      "text/plain": [
       "        PLANT_ID      DC_POWER      AC_POWER   DAILY_YIELD   TOTAL_YIELD\n",
       "count    67698.0  67698.000000  67698.000000  67698.000000  6.769800e+04\n",
       "mean   4136001.0    246.701961    241.277825   3294.890295  6.589448e+08\n",
       "std          0.0    370.569597    362.112118   2919.448386  7.296678e+08\n",
       "min    4136001.0      0.000000      0.000000      0.000000  0.000000e+00\n",
       "25%    4136001.0      0.000000      0.000000    272.750000  1.996494e+07\n",
       "50%    4136001.0      0.000000      0.000000   2911.000000  2.826276e+08\n",
       "75%    4136001.0    446.591667    438.215000   5534.000000  1.348495e+09\n",
       "max    4136001.0   1420.933333   1385.420000   9873.000000  2.247916e+09"
      ]
     },
     "execution_count": 7,
     "metadata": {},
     "output_type": "execute_result"
    }
   ],
   "source": [
    "plant_2_generation_data.describe()"
   ]
  },
  {
   "cell_type": "code",
   "execution_count": 8,
   "metadata": {},
   "outputs": [
    {
     "data": {
      "text/plain": [
       "DATE_TIME      0\n",
       "PLANT_ID       0\n",
       "SOURCE_KEY     0\n",
       "DC_POWER       0\n",
       "AC_POWER       0\n",
       "DAILY_YIELD    0\n",
       "TOTAL_YIELD    0\n",
       "dtype: int64"
      ]
     },
     "execution_count": 8,
     "metadata": {},
     "output_type": "execute_result"
    }
   ],
   "source": [
    "plant_1_generation_data.isnull().sum()"
   ]
  },
  {
   "cell_type": "code",
   "execution_count": 9,
   "metadata": {},
   "outputs": [
    {
     "data": {
      "text/plain": [
       "DATE_TIME              0\n",
       "PLANT_ID               0\n",
       "SOURCE_KEY             0\n",
       "AMBIENT_TEMPERATURE    0\n",
       "MODULE_TEMPERATURE     0\n",
       "IRRADIATION            0\n",
       "dtype: int64"
      ]
     },
     "execution_count": 9,
     "metadata": {},
     "output_type": "execute_result"
    }
   ],
   "source": [
    "plant_1_weather_sensor_data.isnull().sum()"
   ]
  },
  {
   "cell_type": "code",
   "execution_count": 10,
   "metadata": {},
   "outputs": [
    {
     "data": {
      "text/plain": [
       "DATE_TIME      0\n",
       "PLANT_ID       0\n",
       "SOURCE_KEY     0\n",
       "DC_POWER       0\n",
       "AC_POWER       0\n",
       "DAILY_YIELD    0\n",
       "TOTAL_YIELD    0\n",
       "dtype: int64"
      ]
     },
     "execution_count": 10,
     "metadata": {},
     "output_type": "execute_result"
    }
   ],
   "source": [
    "plant_2_generation_data.isnull().sum()"
   ]
  },
  {
   "cell_type": "code",
   "execution_count": 11,
   "metadata": {},
   "outputs": [
    {
     "data": {
      "text/plain": [
       "DATE_TIME              0\n",
       "PLANT_ID               0\n",
       "SOURCE_KEY             0\n",
       "AMBIENT_TEMPERATURE    0\n",
       "MODULE_TEMPERATURE     0\n",
       "IRRADIATION            0\n",
       "dtype: int64"
      ]
     },
     "execution_count": 11,
     "metadata": {},
     "output_type": "execute_result"
    }
   ],
   "source": [
    "plant_2_weather_sensor_data.isnull().sum()"
   ]
  },
  {
   "cell_type": "code",
   "execution_count": 12,
   "metadata": {},
   "outputs": [
    {
     "data": {
      "text/html": [
       "<div>\n",
       "<style scoped>\n",
       "    .dataframe tbody tr th:only-of-type {\n",
       "        vertical-align: middle;\n",
       "    }\n",
       "\n",
       "    .dataframe tbody tr th {\n",
       "        vertical-align: top;\n",
       "    }\n",
       "\n",
       "    .dataframe thead th {\n",
       "        text-align: right;\n",
       "    }\n",
       "</style>\n",
       "<table border=\"1\" class=\"dataframe\">\n",
       "  <thead>\n",
       "    <tr style=\"text-align: right;\">\n",
       "      <th></th>\n",
       "      <th>DATE_TIME</th>\n",
       "      <th>PLANT_ID</th>\n",
       "      <th>SOURCE_KEY</th>\n",
       "      <th>DC_POWER</th>\n",
       "      <th>AC_POWER</th>\n",
       "      <th>DAILY_YIELD</th>\n",
       "      <th>TOTAL_YIELD</th>\n",
       "    </tr>\n",
       "  </thead>\n",
       "  <tbody>\n",
       "    <tr>\n",
       "      <th>0</th>\n",
       "      <td>15-05-2020 00:00</td>\n",
       "      <td>4135001</td>\n",
       "      <td>1BY6WEcLGh8j5v7</td>\n",
       "      <td>0.0</td>\n",
       "      <td>0.0</td>\n",
       "      <td>0.0</td>\n",
       "      <td>6259559.0</td>\n",
       "    </tr>\n",
       "    <tr>\n",
       "      <th>1</th>\n",
       "      <td>15-05-2020 00:00</td>\n",
       "      <td>4135001</td>\n",
       "      <td>1IF53ai7Xc0U56Y</td>\n",
       "      <td>0.0</td>\n",
       "      <td>0.0</td>\n",
       "      <td>0.0</td>\n",
       "      <td>6183645.0</td>\n",
       "    </tr>\n",
       "    <tr>\n",
       "      <th>2</th>\n",
       "      <td>15-05-2020 00:00</td>\n",
       "      <td>4135001</td>\n",
       "      <td>3PZuoBAID5Wc2HD</td>\n",
       "      <td>0.0</td>\n",
       "      <td>0.0</td>\n",
       "      <td>0.0</td>\n",
       "      <td>6987759.0</td>\n",
       "    </tr>\n",
       "    <tr>\n",
       "      <th>3</th>\n",
       "      <td>15-05-2020 00:00</td>\n",
       "      <td>4135001</td>\n",
       "      <td>7JYdWkrLSPkdwr4</td>\n",
       "      <td>0.0</td>\n",
       "      <td>0.0</td>\n",
       "      <td>0.0</td>\n",
       "      <td>7602960.0</td>\n",
       "    </tr>\n",
       "    <tr>\n",
       "      <th>4</th>\n",
       "      <td>15-05-2020 00:00</td>\n",
       "      <td>4135001</td>\n",
       "      <td>McdE0feGgRqW7Ca</td>\n",
       "      <td>0.0</td>\n",
       "      <td>0.0</td>\n",
       "      <td>0.0</td>\n",
       "      <td>7158964.0</td>\n",
       "    </tr>\n",
       "  </tbody>\n",
       "</table>\n",
       "</div>"
      ],
      "text/plain": [
       "          DATE_TIME  PLANT_ID       SOURCE_KEY  DC_POWER  AC_POWER  \\\n",
       "0  15-05-2020 00:00   4135001  1BY6WEcLGh8j5v7       0.0       0.0   \n",
       "1  15-05-2020 00:00   4135001  1IF53ai7Xc0U56Y       0.0       0.0   \n",
       "2  15-05-2020 00:00   4135001  3PZuoBAID5Wc2HD       0.0       0.0   \n",
       "3  15-05-2020 00:00   4135001  7JYdWkrLSPkdwr4       0.0       0.0   \n",
       "4  15-05-2020 00:00   4135001  McdE0feGgRqW7Ca       0.0       0.0   \n",
       "\n",
       "   DAILY_YIELD  TOTAL_YIELD  \n",
       "0          0.0    6259559.0  \n",
       "1          0.0    6183645.0  \n",
       "2          0.0    6987759.0  \n",
       "3          0.0    7602960.0  \n",
       "4          0.0    7158964.0  "
      ]
     },
     "execution_count": 12,
     "metadata": {},
     "output_type": "execute_result"
    }
   ],
   "source": [
    "plant_1_generation_data.head()"
   ]
  },
  {
   "cell_type": "code",
   "execution_count": 13,
   "metadata": {},
   "outputs": [
    {
     "data": {
      "text/html": [
       "<div>\n",
       "<style scoped>\n",
       "    .dataframe tbody tr th:only-of-type {\n",
       "        vertical-align: middle;\n",
       "    }\n",
       "\n",
       "    .dataframe tbody tr th {\n",
       "        vertical-align: top;\n",
       "    }\n",
       "\n",
       "    .dataframe thead th {\n",
       "        text-align: right;\n",
       "    }\n",
       "</style>\n",
       "<table border=\"1\" class=\"dataframe\">\n",
       "  <thead>\n",
       "    <tr style=\"text-align: right;\">\n",
       "      <th></th>\n",
       "      <th>DATE_TIME</th>\n",
       "      <th>PLANT_ID</th>\n",
       "      <th>SOURCE_KEY</th>\n",
       "      <th>AMBIENT_TEMPERATURE</th>\n",
       "      <th>MODULE_TEMPERATURE</th>\n",
       "      <th>IRRADIATION</th>\n",
       "    </tr>\n",
       "  </thead>\n",
       "  <tbody>\n",
       "    <tr>\n",
       "      <th>0</th>\n",
       "      <td>2020-05-15 00:00:00</td>\n",
       "      <td>4135001</td>\n",
       "      <td>HmiyD2TTLFNqkNe</td>\n",
       "      <td>25.184316</td>\n",
       "      <td>22.857507</td>\n",
       "      <td>0.0</td>\n",
       "    </tr>\n",
       "    <tr>\n",
       "      <th>1</th>\n",
       "      <td>2020-05-15 00:15:00</td>\n",
       "      <td>4135001</td>\n",
       "      <td>HmiyD2TTLFNqkNe</td>\n",
       "      <td>25.084589</td>\n",
       "      <td>22.761668</td>\n",
       "      <td>0.0</td>\n",
       "    </tr>\n",
       "    <tr>\n",
       "      <th>2</th>\n",
       "      <td>2020-05-15 00:30:00</td>\n",
       "      <td>4135001</td>\n",
       "      <td>HmiyD2TTLFNqkNe</td>\n",
       "      <td>24.935753</td>\n",
       "      <td>22.592306</td>\n",
       "      <td>0.0</td>\n",
       "    </tr>\n",
       "    <tr>\n",
       "      <th>3</th>\n",
       "      <td>2020-05-15 00:45:00</td>\n",
       "      <td>4135001</td>\n",
       "      <td>HmiyD2TTLFNqkNe</td>\n",
       "      <td>24.846130</td>\n",
       "      <td>22.360852</td>\n",
       "      <td>0.0</td>\n",
       "    </tr>\n",
       "    <tr>\n",
       "      <th>4</th>\n",
       "      <td>2020-05-15 01:00:00</td>\n",
       "      <td>4135001</td>\n",
       "      <td>HmiyD2TTLFNqkNe</td>\n",
       "      <td>24.621525</td>\n",
       "      <td>22.165423</td>\n",
       "      <td>0.0</td>\n",
       "    </tr>\n",
       "  </tbody>\n",
       "</table>\n",
       "</div>"
      ],
      "text/plain": [
       "             DATE_TIME  PLANT_ID       SOURCE_KEY  AMBIENT_TEMPERATURE  \\\n",
       "0  2020-05-15 00:00:00   4135001  HmiyD2TTLFNqkNe            25.184316   \n",
       "1  2020-05-15 00:15:00   4135001  HmiyD2TTLFNqkNe            25.084589   \n",
       "2  2020-05-15 00:30:00   4135001  HmiyD2TTLFNqkNe            24.935753   \n",
       "3  2020-05-15 00:45:00   4135001  HmiyD2TTLFNqkNe            24.846130   \n",
       "4  2020-05-15 01:00:00   4135001  HmiyD2TTLFNqkNe            24.621525   \n",
       "\n",
       "   MODULE_TEMPERATURE  IRRADIATION  \n",
       "0           22.857507          0.0  \n",
       "1           22.761668          0.0  \n",
       "2           22.592306          0.0  \n",
       "3           22.360852          0.0  \n",
       "4           22.165423          0.0  "
      ]
     },
     "execution_count": 13,
     "metadata": {},
     "output_type": "execute_result"
    }
   ],
   "source": [
    "plant_1_weather_sensor_data.head()"
   ]
  },
  {
   "cell_type": "code",
   "execution_count": 14,
   "metadata": {},
   "outputs": [
    {
     "data": {
      "text/html": [
       "<div>\n",
       "<style scoped>\n",
       "    .dataframe tbody tr th:only-of-type {\n",
       "        vertical-align: middle;\n",
       "    }\n",
       "\n",
       "    .dataframe tbody tr th {\n",
       "        vertical-align: top;\n",
       "    }\n",
       "\n",
       "    .dataframe thead th {\n",
       "        text-align: right;\n",
       "    }\n",
       "</style>\n",
       "<table border=\"1\" class=\"dataframe\">\n",
       "  <thead>\n",
       "    <tr style=\"text-align: right;\">\n",
       "      <th></th>\n",
       "      <th>DATE_TIME</th>\n",
       "      <th>PLANT_ID</th>\n",
       "      <th>SOURCE_KEY</th>\n",
       "      <th>DC_POWER</th>\n",
       "      <th>AC_POWER</th>\n",
       "      <th>DAILY_YIELD</th>\n",
       "      <th>TOTAL_YIELD</th>\n",
       "    </tr>\n",
       "  </thead>\n",
       "  <tbody>\n",
       "    <tr>\n",
       "      <th>0</th>\n",
       "      <td>2020-05-15 00:00:00</td>\n",
       "      <td>4136001</td>\n",
       "      <td>4UPUqMRk7TRMgml</td>\n",
       "      <td>0.0</td>\n",
       "      <td>0.0</td>\n",
       "      <td>9425.000000</td>\n",
       "      <td>2.429011e+06</td>\n",
       "    </tr>\n",
       "    <tr>\n",
       "      <th>1</th>\n",
       "      <td>2020-05-15 00:00:00</td>\n",
       "      <td>4136001</td>\n",
       "      <td>81aHJ1q11NBPMrL</td>\n",
       "      <td>0.0</td>\n",
       "      <td>0.0</td>\n",
       "      <td>0.000000</td>\n",
       "      <td>1.215279e+09</td>\n",
       "    </tr>\n",
       "    <tr>\n",
       "      <th>2</th>\n",
       "      <td>2020-05-15 00:00:00</td>\n",
       "      <td>4136001</td>\n",
       "      <td>9kRcWv60rDACzjR</td>\n",
       "      <td>0.0</td>\n",
       "      <td>0.0</td>\n",
       "      <td>3075.333333</td>\n",
       "      <td>2.247720e+09</td>\n",
       "    </tr>\n",
       "    <tr>\n",
       "      <th>3</th>\n",
       "      <td>2020-05-15 00:00:00</td>\n",
       "      <td>4136001</td>\n",
       "      <td>Et9kgGMDl729KT4</td>\n",
       "      <td>0.0</td>\n",
       "      <td>0.0</td>\n",
       "      <td>269.933333</td>\n",
       "      <td>1.704250e+06</td>\n",
       "    </tr>\n",
       "    <tr>\n",
       "      <th>4</th>\n",
       "      <td>2020-05-15 00:00:00</td>\n",
       "      <td>4136001</td>\n",
       "      <td>IQ2d7wF4YD8zU1Q</td>\n",
       "      <td>0.0</td>\n",
       "      <td>0.0</td>\n",
       "      <td>3177.000000</td>\n",
       "      <td>1.994153e+07</td>\n",
       "    </tr>\n",
       "  </tbody>\n",
       "</table>\n",
       "</div>"
      ],
      "text/plain": [
       "             DATE_TIME  PLANT_ID       SOURCE_KEY  DC_POWER  AC_POWER  \\\n",
       "0  2020-05-15 00:00:00   4136001  4UPUqMRk7TRMgml       0.0       0.0   \n",
       "1  2020-05-15 00:00:00   4136001  81aHJ1q11NBPMrL       0.0       0.0   \n",
       "2  2020-05-15 00:00:00   4136001  9kRcWv60rDACzjR       0.0       0.0   \n",
       "3  2020-05-15 00:00:00   4136001  Et9kgGMDl729KT4       0.0       0.0   \n",
       "4  2020-05-15 00:00:00   4136001  IQ2d7wF4YD8zU1Q       0.0       0.0   \n",
       "\n",
       "   DAILY_YIELD   TOTAL_YIELD  \n",
       "0  9425.000000  2.429011e+06  \n",
       "1     0.000000  1.215279e+09  \n",
       "2  3075.333333  2.247720e+09  \n",
       "3   269.933333  1.704250e+06  \n",
       "4  3177.000000  1.994153e+07  "
      ]
     },
     "execution_count": 14,
     "metadata": {},
     "output_type": "execute_result"
    }
   ],
   "source": [
    "plant_2_generation_data.head()"
   ]
  },
  {
   "cell_type": "code",
   "execution_count": 15,
   "metadata": {},
   "outputs": [
    {
     "data": {
      "text/html": [
       "<div>\n",
       "<style scoped>\n",
       "    .dataframe tbody tr th:only-of-type {\n",
       "        vertical-align: middle;\n",
       "    }\n",
       "\n",
       "    .dataframe tbody tr th {\n",
       "        vertical-align: top;\n",
       "    }\n",
       "\n",
       "    .dataframe thead th {\n",
       "        text-align: right;\n",
       "    }\n",
       "</style>\n",
       "<table border=\"1\" class=\"dataframe\">\n",
       "  <thead>\n",
       "    <tr style=\"text-align: right;\">\n",
       "      <th></th>\n",
       "      <th>DATE_TIME</th>\n",
       "      <th>PLANT_ID</th>\n",
       "      <th>SOURCE_KEY</th>\n",
       "      <th>AMBIENT_TEMPERATURE</th>\n",
       "      <th>MODULE_TEMPERATURE</th>\n",
       "      <th>IRRADIATION</th>\n",
       "    </tr>\n",
       "  </thead>\n",
       "  <tbody>\n",
       "    <tr>\n",
       "      <th>0</th>\n",
       "      <td>2020-05-15 00:00:00</td>\n",
       "      <td>4136001</td>\n",
       "      <td>iq8k7ZNt4Mwm3w0</td>\n",
       "      <td>27.004764</td>\n",
       "      <td>25.060789</td>\n",
       "      <td>0.0</td>\n",
       "    </tr>\n",
       "    <tr>\n",
       "      <th>1</th>\n",
       "      <td>2020-05-15 00:15:00</td>\n",
       "      <td>4136001</td>\n",
       "      <td>iq8k7ZNt4Mwm3w0</td>\n",
       "      <td>26.880811</td>\n",
       "      <td>24.421869</td>\n",
       "      <td>0.0</td>\n",
       "    </tr>\n",
       "    <tr>\n",
       "      <th>2</th>\n",
       "      <td>2020-05-15 00:30:00</td>\n",
       "      <td>4136001</td>\n",
       "      <td>iq8k7ZNt4Mwm3w0</td>\n",
       "      <td>26.682055</td>\n",
       "      <td>24.427290</td>\n",
       "      <td>0.0</td>\n",
       "    </tr>\n",
       "    <tr>\n",
       "      <th>3</th>\n",
       "      <td>2020-05-15 00:45:00</td>\n",
       "      <td>4136001</td>\n",
       "      <td>iq8k7ZNt4Mwm3w0</td>\n",
       "      <td>26.500589</td>\n",
       "      <td>24.420678</td>\n",
       "      <td>0.0</td>\n",
       "    </tr>\n",
       "    <tr>\n",
       "      <th>4</th>\n",
       "      <td>2020-05-15 01:00:00</td>\n",
       "      <td>4136001</td>\n",
       "      <td>iq8k7ZNt4Mwm3w0</td>\n",
       "      <td>26.596148</td>\n",
       "      <td>25.088210</td>\n",
       "      <td>0.0</td>\n",
       "    </tr>\n",
       "  </tbody>\n",
       "</table>\n",
       "</div>"
      ],
      "text/plain": [
       "             DATE_TIME  PLANT_ID       SOURCE_KEY  AMBIENT_TEMPERATURE  \\\n",
       "0  2020-05-15 00:00:00   4136001  iq8k7ZNt4Mwm3w0            27.004764   \n",
       "1  2020-05-15 00:15:00   4136001  iq8k7ZNt4Mwm3w0            26.880811   \n",
       "2  2020-05-15 00:30:00   4136001  iq8k7ZNt4Mwm3w0            26.682055   \n",
       "3  2020-05-15 00:45:00   4136001  iq8k7ZNt4Mwm3w0            26.500589   \n",
       "4  2020-05-15 01:00:00   4136001  iq8k7ZNt4Mwm3w0            26.596148   \n",
       "\n",
       "   MODULE_TEMPERATURE  IRRADIATION  \n",
       "0           25.060789          0.0  \n",
       "1           24.421869          0.0  \n",
       "2           24.427290          0.0  \n",
       "3           24.420678          0.0  \n",
       "4           25.088210          0.0  "
      ]
     },
     "execution_count": 15,
     "metadata": {},
     "output_type": "execute_result"
    }
   ],
   "source": [
    "plant_2_weather_sensor_data.head()"
   ]
  },
  {
   "cell_type": "markdown",
   "metadata": {},
   "source": [
    "## Total Number of Inverters"
   ]
  },
  {
   "cell_type": "code",
   "execution_count": 16,
   "metadata": {},
   "outputs": [
    {
     "data": {
      "text/plain": [
       "726.4914252689014"
      ]
     },
     "execution_count": 16,
     "metadata": {},
     "output_type": "execute_result"
    }
   ],
   "source": [
    "plant_1_irradiation = plant_1_weather_sensor_data['IRRADIATION']\n",
    "sum(plant_1_irradiation)"
   ]
  },
  {
   "cell_type": "code",
   "execution_count": 17,
   "metadata": {},
   "outputs": [
    {
     "data": {
      "text/plain": [
       "758.4898169359271"
      ]
     },
     "execution_count": 17,
     "metadata": {},
     "output_type": "execute_result"
    }
   ],
   "source": [
    "plant_2_irradiation = plant_2_weather_sensor_data['IRRADIATION']\n",
    "sum(plant_2_irradiation)"
   ]
  },
  {
   "cell_type": "markdown",
   "metadata": {},
   "source": [
    "## Maximum Ambient Temperature"
   ]
  },
  {
   "cell_type": "code",
   "execution_count": 18,
   "metadata": {},
   "outputs": [
    {
     "data": {
      "text/plain": [
       "35.25248613333334"
      ]
     },
     "execution_count": 18,
     "metadata": {},
     "output_type": "execute_result"
    }
   ],
   "source": [
    "plant_1_ambient_temperature = plant_1_weather_sensor_data['AMBIENT_TEMPERATURE']\n",
    "max(plant_1_ambient_temperature)"
   ]
  },
  {
   "cell_type": "code",
   "execution_count": 19,
   "metadata": {},
   "outputs": [
    {
     "data": {
      "text/plain": [
       "39.18163776666667"
      ]
     },
     "execution_count": 19,
     "metadata": {},
     "output_type": "execute_result"
    }
   ],
   "source": [
    "plant_2_ambient_temperature = plant_2_weather_sensor_data['AMBIENT_TEMPERATURE']\n",
    "max(plant_2_ambient_temperature)"
   ]
  },
  {
   "cell_type": "code",
   "execution_count": 23,
   "metadata": {},
   "outputs": [
    {
     "data": {
      "text/html": [
       "<div>\n",
       "<style scoped>\n",
       "    .dataframe tbody tr th:only-of-type {\n",
       "        vertical-align: middle;\n",
       "    }\n",
       "\n",
       "    .dataframe tbody tr th {\n",
       "        vertical-align: top;\n",
       "    }\n",
       "\n",
       "    .dataframe thead th {\n",
       "        text-align: right;\n",
       "    }\n",
       "</style>\n",
       "<table border=\"1\" class=\"dataframe\">\n",
       "  <thead>\n",
       "    <tr style=\"text-align: right;\">\n",
       "      <th></th>\n",
       "      <th>DATE_TIME</th>\n",
       "      <th>PLANT_ID</th>\n",
       "      <th>SOURCE_KEY</th>\n",
       "      <th>DC_POWER</th>\n",
       "      <th>AC_POWER</th>\n",
       "      <th>DAILY_YIELD</th>\n",
       "      <th>TOTAL_YIELD</th>\n",
       "    </tr>\n",
       "  </thead>\n",
       "  <tbody>\n",
       "    <tr>\n",
       "      <th>1420</th>\n",
       "      <td>2020-05-15 16:00:00</td>\n",
       "      <td>4136001</td>\n",
       "      <td>V94E5Ben1TlhnDV</td>\n",
       "      <td>672.766667</td>\n",
       "      <td>658.96</td>\n",
       "      <td>8789.733333</td>\n",
       "      <td>1.412092e+09</td>\n",
       "    </tr>\n",
       "  </tbody>\n",
       "</table>\n",
       "</div>"
      ],
      "text/plain": [
       "                DATE_TIME  PLANT_ID       SOURCE_KEY    DC_POWER  AC_POWER  \\\n",
       "1420  2020-05-15 16:00:00   4136001  V94E5Ben1TlhnDV  672.766667    658.96   \n",
       "\n",
       "      DAILY_YIELD   TOTAL_YIELD  \n",
       "1420  8789.733333  1.412092e+09  "
      ]
     },
     "execution_count": 23,
     "metadata": {},
     "output_type": "execute_result"
    }
   ],
   "source": [
    "plant_2_generation_data.iloc[[max(plant_2_generation_data[\"DC_POWER\"])]]"
   ]
  },
  {
   "cell_type": "code",
   "execution_count": 27,
   "metadata": {},
   "outputs": [
    {
     "data": {
      "text/html": [
       "<div>\n",
       "<style scoped>\n",
       "    .dataframe tbody tr th:only-of-type {\n",
       "        vertical-align: middle;\n",
       "    }\n",
       "\n",
       "    .dataframe tbody tr th {\n",
       "        vertical-align: top;\n",
       "    }\n",
       "\n",
       "    .dataframe thead th {\n",
       "        text-align: right;\n",
       "    }\n",
       "</style>\n",
       "<table border=\"1\" class=\"dataframe\">\n",
       "  <thead>\n",
       "    <tr style=\"text-align: right;\">\n",
       "      <th></th>\n",
       "      <th>DATE_TIME</th>\n",
       "      <th>PLANT_ID</th>\n",
       "      <th>SOURCE_KEY</th>\n",
       "      <th>DC_POWER</th>\n",
       "      <th>AC_POWER</th>\n",
       "      <th>DAILY_YIELD</th>\n",
       "      <th>TOTAL_YIELD</th>\n",
       "    </tr>\n",
       "  </thead>\n",
       "  <tbody>\n",
       "    <tr>\n",
       "      <th>14471</th>\n",
       "      <td>22-05-2020 15:00</td>\n",
       "      <td>4135001</td>\n",
       "      <td>ZoEaEvLYb1n2sOq</td>\n",
       "      <td>9713.285714</td>\n",
       "      <td>949.842857</td>\n",
       "      <td>6160.428571</td>\n",
       "      <td>7152845.429</td>\n",
       "    </tr>\n",
       "  </tbody>\n",
       "</table>\n",
       "</div>"
      ],
      "text/plain": [
       "              DATE_TIME  PLANT_ID       SOURCE_KEY     DC_POWER    AC_POWER  \\\n",
       "14471  22-05-2020 15:00   4135001  ZoEaEvLYb1n2sOq  9713.285714  949.842857   \n",
       "\n",
       "       DAILY_YIELD  TOTAL_YIELD  \n",
       "14471  6160.428571  7152845.429  "
      ]
     },
     "execution_count": 27,
     "metadata": {},
     "output_type": "execute_result"
    }
   ],
   "source": [
    "plant_1_generation_data.iloc[[max(plant_1_generation_data[\"DC_POWER\"])]]"
   ]
  },
  {
   "cell_type": "code",
   "execution_count": 28,
   "metadata": {},
   "outputs": [
    {
     "data": {
      "text/html": [
       "<div>\n",
       "<style scoped>\n",
       "    .dataframe tbody tr th:only-of-type {\n",
       "        vertical-align: middle;\n",
       "    }\n",
       "\n",
       "    .dataframe tbody tr th {\n",
       "        vertical-align: top;\n",
       "    }\n",
       "\n",
       "    .dataframe thead th {\n",
       "        text-align: right;\n",
       "    }\n",
       "</style>\n",
       "<table border=\"1\" class=\"dataframe\">\n",
       "  <thead>\n",
       "    <tr style=\"text-align: right;\">\n",
       "      <th></th>\n",
       "      <th>DATE_TIME</th>\n",
       "      <th>PLANT_ID</th>\n",
       "      <th>SOURCE_KEY</th>\n",
       "      <th>DC_POWER</th>\n",
       "      <th>AC_POWER</th>\n",
       "      <th>DAILY_YIELD</th>\n",
       "      <th>TOTAL_YIELD</th>\n",
       "    </tr>\n",
       "  </thead>\n",
       "  <tbody>\n",
       "    <tr>\n",
       "      <th>41423</th>\n",
       "      <td>2020-06-05 13:15:00</td>\n",
       "      <td>4136001</td>\n",
       "      <td>oZ35aAeoifZaQzV</td>\n",
       "      <td>1420.933333</td>\n",
       "      <td>1385.420000</td>\n",
       "      <td>5561.866667</td>\n",
       "      <td>1.660124e+09</td>\n",
       "    </tr>\n",
       "    <tr>\n",
       "      <th>41408</th>\n",
       "      <td>2020-06-05 13:15:00</td>\n",
       "      <td>4136001</td>\n",
       "      <td>4UPUqMRk7TRMgml</td>\n",
       "      <td>1419.840000</td>\n",
       "      <td>1384.346667</td>\n",
       "      <td>5626.800000</td>\n",
       "      <td>2.583031e+06</td>\n",
       "    </tr>\n",
       "    <tr>\n",
       "      <th>41412</th>\n",
       "      <td>2020-06-05 13:15:00</td>\n",
       "      <td>4136001</td>\n",
       "      <td>IQ2d7wF4YD8zU1Q</td>\n",
       "      <td>1418.928571</td>\n",
       "      <td>1383.457143</td>\n",
       "      <td>5695.214286</td>\n",
       "      <td>2.010828e+07</td>\n",
       "    </tr>\n",
       "    <tr>\n",
       "      <th>39248</th>\n",
       "      <td>2020-06-04 12:30:00</td>\n",
       "      <td>4136001</td>\n",
       "      <td>rrq4fwE8jgrTyWY</td>\n",
       "      <td>1414.120000</td>\n",
       "      <td>1378.766667</td>\n",
       "      <td>3822.866667</td>\n",
       "      <td>1.210767e+08</td>\n",
       "    </tr>\n",
       "    <tr>\n",
       "      <th>41415</th>\n",
       "      <td>2020-06-05 13:15:00</td>\n",
       "      <td>4136001</td>\n",
       "      <td>Mx2yZCDsyf6DPfv</td>\n",
       "      <td>1412.466667</td>\n",
       "      <td>1377.153333</td>\n",
       "      <td>5594.266667</td>\n",
       "      <td>2.614668e+06</td>\n",
       "    </tr>\n",
       "  </tbody>\n",
       "</table>\n",
       "</div>"
      ],
      "text/plain": [
       "                 DATE_TIME  PLANT_ID       SOURCE_KEY     DC_POWER  \\\n",
       "41423  2020-06-05 13:15:00   4136001  oZ35aAeoifZaQzV  1420.933333   \n",
       "41408  2020-06-05 13:15:00   4136001  4UPUqMRk7TRMgml  1419.840000   \n",
       "41412  2020-06-05 13:15:00   4136001  IQ2d7wF4YD8zU1Q  1418.928571   \n",
       "39248  2020-06-04 12:30:00   4136001  rrq4fwE8jgrTyWY  1414.120000   \n",
       "41415  2020-06-05 13:15:00   4136001  Mx2yZCDsyf6DPfv  1412.466667   \n",
       "\n",
       "          AC_POWER  DAILY_YIELD   TOTAL_YIELD  \n",
       "41423  1385.420000  5561.866667  1.660124e+09  \n",
       "41408  1384.346667  5626.800000  2.583031e+06  \n",
       "41412  1383.457143  5695.214286  2.010828e+07  \n",
       "39248  1378.766667  3822.866667  1.210767e+08  \n",
       "41415  1377.153333  5594.266667  2.614668e+06  "
      ]
     },
     "execution_count": 28,
     "metadata": {},
     "output_type": "execute_result"
    }
   ],
   "source": [
    "plant_2_generation_data.sort_values(\"DC_POWER\", axis = 0, ascending = False, na_position= \"last\", inplace = True)\n",
    "plant_2_generation_data.head()"
   ]
  },
  {
   "cell_type": "code",
   "execution_count": 29,
   "metadata": {},
   "outputs": [
    {
     "data": {
      "text/html": [
       "<div>\n",
       "<style scoped>\n",
       "    .dataframe tbody tr th:only-of-type {\n",
       "        vertical-align: middle;\n",
       "    }\n",
       "\n",
       "    .dataframe tbody tr th {\n",
       "        vertical-align: top;\n",
       "    }\n",
       "\n",
       "    .dataframe thead th {\n",
       "        text-align: right;\n",
       "    }\n",
       "</style>\n",
       "<table border=\"1\" class=\"dataframe\">\n",
       "  <thead>\n",
       "    <tr style=\"text-align: right;\">\n",
       "      <th></th>\n",
       "      <th>DATE_TIME</th>\n",
       "      <th>PLANT_ID</th>\n",
       "      <th>SOURCE_KEY</th>\n",
       "      <th>DC_POWER</th>\n",
       "      <th>AC_POWER</th>\n",
       "      <th>DAILY_YIELD</th>\n",
       "      <th>TOTAL_YIELD</th>\n",
       "    </tr>\n",
       "  </thead>\n",
       "  <tbody>\n",
       "    <tr>\n",
       "      <th>61624</th>\n",
       "      <td>14-06-2020 14:00</td>\n",
       "      <td>4135001</td>\n",
       "      <td>wCURE6d3bPkepu2</td>\n",
       "      <td>14471.12500</td>\n",
       "      <td>1410.950000</td>\n",
       "      <td>5178.250000</td>\n",
       "      <td>7007547.250</td>\n",
       "    </tr>\n",
       "    <tr>\n",
       "      <th>61613</th>\n",
       "      <td>14-06-2020 14:00</td>\n",
       "      <td>4135001</td>\n",
       "      <td>YxYtjZvoooNbGkE</td>\n",
       "      <td>14466.85714</td>\n",
       "      <td>1410.528571</td>\n",
       "      <td>5160.857143</td>\n",
       "      <td>7404599.857</td>\n",
       "    </tr>\n",
       "    <tr>\n",
       "      <th>61618</th>\n",
       "      <td>14-06-2020 14:00</td>\n",
       "      <td>4135001</td>\n",
       "      <td>iCRJl6heRkivqQ3</td>\n",
       "      <td>14436.28571</td>\n",
       "      <td>1407.542857</td>\n",
       "      <td>5267.000000</td>\n",
       "      <td>7405122.000</td>\n",
       "    </tr>\n",
       "    <tr>\n",
       "      <th>61610</th>\n",
       "      <td>14-06-2020 14:00</td>\n",
       "      <td>4135001</td>\n",
       "      <td>McdE0feGgRqW7Ca</td>\n",
       "      <td>14418.42857</td>\n",
       "      <td>1405.800000</td>\n",
       "      <td>5298.571429</td>\n",
       "      <td>7387221.571</td>\n",
       "    </tr>\n",
       "    <tr>\n",
       "      <th>61616</th>\n",
       "      <td>14-06-2020 14:00</td>\n",
       "      <td>4135001</td>\n",
       "      <td>adLQvlD726eNBSB</td>\n",
       "      <td>14416.14286</td>\n",
       "      <td>1405.585714</td>\n",
       "      <td>5471.285714</td>\n",
       "      <td>6502967.286</td>\n",
       "    </tr>\n",
       "  </tbody>\n",
       "</table>\n",
       "</div>"
      ],
      "text/plain": [
       "              DATE_TIME  PLANT_ID       SOURCE_KEY     DC_POWER     AC_POWER  \\\n",
       "61624  14-06-2020 14:00   4135001  wCURE6d3bPkepu2  14471.12500  1410.950000   \n",
       "61613  14-06-2020 14:00   4135001  YxYtjZvoooNbGkE  14466.85714  1410.528571   \n",
       "61618  14-06-2020 14:00   4135001  iCRJl6heRkivqQ3  14436.28571  1407.542857   \n",
       "61610  14-06-2020 14:00   4135001  McdE0feGgRqW7Ca  14418.42857  1405.800000   \n",
       "61616  14-06-2020 14:00   4135001  adLQvlD726eNBSB  14416.14286  1405.585714   \n",
       "\n",
       "       DAILY_YIELD  TOTAL_YIELD  \n",
       "61624  5178.250000  7007547.250  \n",
       "61613  5160.857143  7404599.857  \n",
       "61618  5267.000000  7405122.000  \n",
       "61610  5298.571429  7387221.571  \n",
       "61616  5471.285714  6502967.286  "
      ]
     },
     "execution_count": 29,
     "metadata": {},
     "output_type": "execute_result"
    }
   ],
   "source": [
    "plant_1_generation_data.sort_values(\"DC_POWER\", axis = 0, ascending = False, na_position= \"last\", inplace = True)\n",
    "plant_1_generation_data.head()"
   ]
  },
  {
   "cell_type": "markdown",
   "metadata": {},
   "source": [
    "## Power 1 Generation w.r.t Date and DC Power"
   ]
  },
  {
   "cell_type": "code",
   "execution_count": 31,
   "metadata": {},
   "outputs": [],
   "source": [
    "df_date = plant_1_generation_data['DATE_TIME'].str.split()\n",
    "x = []\n",
    "for d in df_date:\n",
    "    va = d[0]\n",
    "    x.append(va)\n",
    "plant_1_generation_data['DATE'] = pd.DataFrame(x)\n",
    "plant_1_generation_data.drop(['DATE_TIME'],axis=1,inplace=True)"
   ]
  },
  {
   "cell_type": "code",
   "execution_count": 32,
   "metadata": {},
   "outputs": [
    {
     "data": {
      "image/png": "[encoded data removed]",
      "text/plain": [
       "<Figure size 1080x360 with 1 Axes>"
      ]
     },
     "metadata": {
      "needs_background": "light"
     },
     "output_type": "display_data"
    }
   ],
   "source": [
    "plant_1_generation = plant_1_generation_data.groupby(\"DATE\")['DC_POWER'].count().reset_index()\n",
    "df = plant_1_generation.sort_values('DATE',ascending=False)\n",
    "plt.figure(figsize=(15,5))\n",
    "chart = sns.barplot(\n",
    "    data = plant_1_generation,\n",
    "    x = 'DATE',\n",
    "    y = 'DC_POWER',\n",
    "    palette = 'Set1'\n",
    ")\n",
    "chart = chart.set_xticklabels(\n",
    "    chart.get_xticklabels(), \n",
    "    rotation = 45, \n",
    "    horizontalalignment = 'right',\n",
    "    fontweight = 'light',\n",
    ")\n",
    "plt.show()\n"
   ]
  },
  {
   "cell_type": "markdown",
   "metadata": {},
   "source": [
    "## Power 2 Generation w.r.t Date and DC Power"
   ]
  },
  {
   "cell_type": "code",
   "execution_count": 33,
   "metadata": {},
   "outputs": [],
   "source": [
    "df_date = plant_2_generation_data['DATE_TIME'].str.split()\n",
    "x = []\n",
    "for d in df_date:\n",
    "    va = d[0]\n",
    "    x.append(va)\n",
    "plant_2_generation_data['DATE'] = pd.DataFrame(x)\n",
    "plant_2_generation_data.drop(['DATE_TIME'],axis=1,inplace=True)"
   ]
  },
  {
   "cell_type": "code",
   "execution_count": 36,
   "metadata": {},
   "outputs": [
    {
     "data": {
      "image/png": "[encoded data removed]",
      "text/plain": [
       "<Figure size 1080x360 with 1 Axes>"
      ]
     },
     "metadata": {
      "needs_background": "light"
     },
     "output_type": "display_data"
    }
   ],
   "source": [
    "plant_2_generation = plant_2_generation_data.groupby(\"DATE\")['DC_POWER'].count().reset_index()\n",
    "df = plant_2_generation.sort_values('DATE',ascending=False)\n",
    "plt.figure(figsize=(15,5))\n",
    "chart = sns.barplot(\n",
    "    data = plant_2_generation,\n",
    "    x = 'DATE',\n",
    "    y = 'DC_POWER',\n",
    "    palette = 'Set2'\n",
    ")\n",
    "chart = chart.set_xticklabels(\n",
    "    chart.get_xticklabels(), \n",
    "    rotation = 45, \n",
    "    horizontalalignment = 'right',\n",
    "    fontweight = 'light',\n",
    ")\n",
    "plt.show()"
   ]
  },
  {
   "cell_type": "markdown",
   "metadata": {},
   "source": [
    "## Plant 1& 2 Generation Data w.r.t. Date and Total Invertors"
   ]
  },
  {
   "cell_type": "code",
   "execution_count": 37,
   "metadata": {},
   "outputs": [
    {
     "data": {
      "image/png": "[encoded data removed]",
      "text/plain": [
       "<Figure size 1080x360 with 1 Axes>"
      ]
     },
     "metadata": {
      "needs_background": "light"
     },
     "output_type": "display_data"
    }
   ],
   "source": [
    "plant_1_generation = plant_1_generation_data.groupby(\"DATE\")['AC_POWER'].count().reset_index()\n",
    "df = plant_1_generation.sort_values('DATE',ascending=False)\n",
    "plt.figure(figsize=(15,5))\n",
    "chart = sns.barplot(\n",
    "    data = plant_1_generation,\n",
    "    x = 'DATE',\n",
    "    y = 'AC_POWER',\n",
    "    palette = 'Set1'\n",
    ")\n",
    "chart = chart.set_xticklabels(\n",
    "    chart.get_xticklabels(), \n",
    "    rotation = 45, \n",
    "    horizontalalignment = 'right',\n",
    "    fontweight = 'light',\n",
    ")\n",
    "plt.show()"
   ]
  },
  {
   "cell_type": "code",
   "execution_count": 38,
   "metadata": {},
   "outputs": [
    {
     "data": {
      "image/png": "[encoded data removed]",
      "text/plain": [
       "<Figure size 1080x360 with 1 Axes>"
      ]
     },
     "metadata": {
      "needs_background": "light"
     },
     "output_type": "display_data"
    }
   ],
   "source": [
    "plant_2_generation = plant_2_generation_data.groupby(\"DATE\")['SOURCE_KEY'].count().reset_index()\n",
    "df = plant_2_generation.sort_values('DATE',ascending=False)\n",
    "plt.figure(figsize=(15,5))\n",
    "chart = sns.barplot(\n",
    "    data = plant_2_generation,\n",
    "    x = 'DATE',\n",
    "    y = 'SOURCE_KEY',\n",
    "    palette = 'Set2'\n",
    ")\n",
    "chart = chart.set_xticklabels(\n",
    "    chart.get_xticklabels(), \n",
    "    rotation = 45, \n",
    "    horizontalalignment = 'right',\n",
    "    fontweight = 'light',\n",
    ")\n",
    "plt.show()"
   ]
  },
  {
   "cell_type": "code",
   "execution_count": null,
   "metadata": {},
   "outputs": [],
   "source": []
  }
 ],
 "metadata": {
  "kernelspec": {
   "display_name": "Python 3",
   "language": "python",
   "name": "python3"
  },
  "language_info": {
   "codemirror_mode": {
    "name": "ipython",
    "version": 3
   },
   "file_extension": ".py",
   "mimetype": "text/x-python",
   "name": "python",
   "nbconvert_exporter": "python",
   "pygments_lexer": "ipython3",
   "version": "3.8.3"
  }
 },
 "nbformat": 4,
 "nbformat_minor": 2
}
